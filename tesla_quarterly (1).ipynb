{
 "cells": [
  {
   "cell_type": "code",
   "execution_count": 116,
   "metadata": {},
   "outputs": [],
   "source": [
    "import requests\n",
    "from bs4 import BeautifulSoup\n",
    "import pandas as pd"
   ]
  },
  {
   "cell_type": "code",
   "execution_count": 117,
   "metadata": {},
   "outputs": [],
   "source": [
    "url=\"https://www.macrotrends.net/stocks/charts/TSLA/tesla/revenue.\"\n",
    "html_data  = requests.get(url).text\n"
   ]
  },
  {
   "cell_type": "code",
   "execution_count": 126,
   "metadata": {},
   "outputs": [],
   "source": [
    "soup = BeautifulSoup(html_data, 'html5lib')"
   ]
  },
  {
   "cell_type": "code",
   "execution_count": 141,
   "metadata": {},
   "outputs": [
    {
     "name": "stdout",
     "output_type": "stream",
     "text": [
      "          Date Revenue\n",
      "0   2020-12-31   10744\n",
      "1   2020-09-30    8771\n",
      "2   2020-06-30    6036\n",
      "3   2020-03-31    5985\n",
      "4   2019-12-31    7384\n",
      "5   2019-09-30    6303\n",
      "6   2019-06-30    6350\n",
      "7   2019-03-31    4541\n",
      "8   2018-12-31    7226\n",
      "9   2018-09-30    6824\n",
      "10  2018-06-30    4002\n",
      "11  2018-03-31    3409\n",
      "12  2017-12-31    3288\n",
      "13  2017-09-30    2985\n",
      "14  2017-06-30    2790\n",
      "15  2017-03-31    2696\n",
      "16  2016-12-31    2285\n",
      "17  2016-09-30    2298\n",
      "18  2016-06-30    1270\n",
      "19  2016-03-31    1147\n",
      "20  2015-12-31    1214\n",
      "21  2015-09-30     937\n",
      "22  2015-06-30     955\n",
      "23  2015-03-31     940\n",
      "24  2014-12-31     957\n",
      "25  2014-09-30     852\n",
      "26  2014-06-30     769\n",
      "27  2014-03-31     621\n",
      "28  2013-12-31     615\n",
      "29  2013-09-30     431\n",
      "30  2013-06-30     405\n",
      "31  2013-03-31     562\n",
      "32  2012-12-31     306\n",
      "33  2012-09-30      50\n",
      "34  2012-06-30      27\n",
      "35  2012-03-31      30\n",
      "36  2011-12-31      39\n",
      "37  2011-09-30      58\n",
      "38  2011-06-30      58\n",
      "39  2011-03-31      49\n",
      "40  2010-12-31      36\n",
      "41  2010-09-30      31\n",
      "42  2010-06-30      28\n",
      "43  2010-03-31      21\n",
      "44  2009-12-31        \n",
      "45  2009-09-30      46\n",
      "46  2009-06-30      27\n",
      "47  2008-12-31        \n"
     ]
    }
   ],
   "source": [
    "tables = soup.find_all('table') \n",
    "tesla_revenue= pd.DataFrame(columns=[\"Date\", \"Revenue\"])\n",
    "\n",
    "for table in tables:\n",
    "    if table.find('th').getText().startswith(\"Tesla Quarterly Revenue\"):\n",
    "        for row in table.find(\"tbody\").find_all(\"tr\"):\n",
    "            col = row.find_all(\"td\")\n",
    "            Date =col[0].text\n",
    "            Revenue = col[1].text.replace(\"$\", \"\").replace(\",\", \"\")\n",
    "            tesla_revenue = tesla_revenue.append({ \"Date\":Date, \"Revenue\":Revenue}, ignore_index=True)\n",
    "\n",
    "print(tesla_revenue)"
   ]
  },
  {
   "cell_type": "code",
   "execution_count": null,
   "metadata": {},
   "outputs": [],
   "source": []
  },
  {
   "cell_type": "code",
   "execution_count": null,
   "metadata": {},
   "outputs": [],
   "source": []
  }
 ],
 "metadata": {
  "kernelspec": {
   "display_name": "Python 3",
   "language": "python",
   "name": "python3"
  },
  "language_info": {
   "codemirror_mode": {
    "name": "ipython",
    "version": 3
   },
   "file_extension": ".py",
   "mimetype": "text/x-python",
   "name": "python",
   "nbconvert_exporter": "python",
   "pygments_lexer": "ipython3",
   "version": "3.8.5"
  }
 },
 "nbformat": 4,
 "nbformat_minor": 4
}
